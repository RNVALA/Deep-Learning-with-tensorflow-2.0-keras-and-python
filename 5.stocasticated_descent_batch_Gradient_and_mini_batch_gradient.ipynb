{
 "cells": [
  {
   "cell_type": "markdown",
   "id": "5427be4a",
   "metadata": {},
   "source": [
    "### batch gradient descent\n",
    "- In Batch gradient descent\n",
    "  - we go through all training samples and calculate cummulative error\n",
    "- if i have 10 million samples \n",
    "  - to find cumulative error for first round(epoch) now we need to do a forward pass for 10 million samples\n",
    "  - we have 2 features(Area and bedroom). This requires finding 20 million derivatives\n",
    " -now we backpropogate and adjust weights\n",
    " \n"
   ]
  },
  {
   "cell_type": "markdown",
   "id": "843f6ff2",
   "metadata": {},
   "source": [
    "### stochastic Gradient Descent"
   ]
  },
  {
   "cell_type": "markdown",
   "id": "28f8ca18",
   "metadata": {},
   "source": [
    " - 1.instead of going through all sample go to one randomly pick data training sample find out the error and after first sample\n",
    " - 2.you start adjusting the weights\n",
    "   - w1=w1-learning rate*d(error)/d(w1) \n",
    "   - w2=w2-learning rate*d(error)/d(W2)\n",
    "   - b=b-learning rate*d(error)/d(bias)\n",
    " - 3.Again randomly pick a training sample\n",
    "     - then find out the error\n",
    " - 4 again adjust weights\n",
    " - so, you adjust weight after every training sample forward pass this is called stochastic graadient descent\n",
    " \n"
   ]
  },
  {
   "cell_type": "markdown",
   "id": "86ed501a",
   "metadata": {},
   "source": [
    "### Diffeance between Batch Gradient descent and Stochastic Gradient Descent(SGD)"
   ]
  },
  {
   "cell_type": "markdown",
   "id": "4501643b",
   "metadata": {},
   "source": [
    "- Batch Gradient Descent\n",
    "  - Use all training samples for one forward pass and then adjust weights\n",
    "  - Good for small training set\n",
    "- Stochastic Gradient Descent\n",
    "  - use one (randomly picked)sample for a  forward pass and then adjust weights\n",
    "  - Good when training set is very big and we don't want too much computation"
   ]
  },
  {
   "cell_type": "markdown",
   "id": "6de5b8a5",
   "metadata": {},
   "source": [
    "### mini batch gradient\n",
    "- now what is mini batch gradient\n",
    "  - Mini Batch is like SGD. Instead of choosing one randomly picked training sample, you will use a batch of randomly picked training samples. \n",
    "   - 1. for example I have 20 training samples total.\n",
    "   - 2. Let's say I use 5 random samples for one forward pass to calculate cummulative error\n",
    "   - 3. After that I adjust weights\n",
    "   "
   ]
  },
  {
   "cell_type": "code",
   "execution_count": 1,
   "id": "589c4bad",
   "metadata": {},
   "outputs": [],
   "source": [
    "#importing the required libraries\n",
    "import pandas as pd\n",
    "import numpy as np\n",
    "from matplotlib import pyplot as plt\n",
    "%matplotlib inline"
   ]
  },
  {
   "cell_type": "code",
   "execution_count": 2,
   "id": "03aa61ac",
   "metadata": {},
   "outputs": [
    {
     "data": {
      "text/html": [
       "<div>\n",
       "<style scoped>\n",
       "    .dataframe tbody tr th:only-of-type {\n",
       "        vertical-align: middle;\n",
       "    }\n",
       "\n",
       "    .dataframe tbody tr th {\n",
       "        vertical-align: top;\n",
       "    }\n",
       "\n",
       "    .dataframe thead th {\n",
       "        text-align: right;\n",
       "    }\n",
       "</style>\n",
       "<table border=\"1\" class=\"dataframe\">\n",
       "  <thead>\n",
       "    <tr style=\"text-align: right;\">\n",
       "      <th></th>\n",
       "      <th>area</th>\n",
       "      <th>bedrooms</th>\n",
       "      <th>price</th>\n",
       "    </tr>\n",
       "  </thead>\n",
       "  <tbody>\n",
       "    <tr>\n",
       "      <th>15</th>\n",
       "      <td>1175</td>\n",
       "      <td>2</td>\n",
       "      <td>42.0</td>\n",
       "    </tr>\n",
       "    <tr>\n",
       "      <th>1</th>\n",
       "      <td>2600</td>\n",
       "      <td>4</td>\n",
       "      <td>120.0</td>\n",
       "    </tr>\n",
       "    <tr>\n",
       "      <th>5</th>\n",
       "      <td>1170</td>\n",
       "      <td>2</td>\n",
       "      <td>38.0</td>\n",
       "    </tr>\n",
       "    <tr>\n",
       "      <th>10</th>\n",
       "      <td>1800</td>\n",
       "      <td>3</td>\n",
       "      <td>82.0</td>\n",
       "    </tr>\n",
       "    <tr>\n",
       "      <th>3</th>\n",
       "      <td>1521</td>\n",
       "      <td>3</td>\n",
       "      <td>75.0</td>\n",
       "    </tr>\n",
       "  </tbody>\n",
       "</table>\n",
       "</div>"
      ],
      "text/plain": [
       "    area  bedrooms  price\n",
       "15  1175         2   42.0\n",
       "1   2600         4  120.0\n",
       "5   1170         2   38.0\n",
       "10  1800         3   82.0\n",
       "3   1521         3   75.0"
      ]
     },
     "execution_count": 2,
     "metadata": {},
     "output_type": "execute_result"
    }
   ],
   "source": [
    "#importing the dataset\n",
    "df=pd.read_csv(\"homeprices_banglore.csv\")\n",
    "df.sample(5)"
   ]
  },
  {
   "cell_type": "code",
   "execution_count": 3,
   "id": "b8aab671",
   "metadata": {},
   "outputs": [],
   "source": [
    "#scaling the independent variable\n",
    "from sklearn import preprocessing\n",
    "sx=preprocessing.MinMaxScaler()\n",
    "sy=preprocessing.MinMaxScaler()\n",
    "\n",
    "scaled_x=sx.fit_transform(df.drop('price',axis='columns'))\n"
   ]
  },
  {
   "cell_type": "code",
   "execution_count": 4,
   "id": "cea5f282",
   "metadata": {},
   "outputs": [
    {
     "data": {
      "text/plain": [
       "(20,)"
      ]
     },
     "execution_count": 4,
     "metadata": {},
     "output_type": "execute_result"
    }
   ],
   "source": [
    "scaled_x\n",
    "df['price'].shape"
   ]
  },
  {
   "cell_type": "code",
   "execution_count": 6,
   "id": "ef2400fd",
   "metadata": {},
   "outputs": [
    {
     "data": {
      "text/plain": [
       "(20, 1)"
      ]
     },
     "execution_count": 6,
     "metadata": {},
     "output_type": "execute_result"
    }
   ],
   "source": [
    "# scaled_y=sy.fit_transform(df[['price']])\n",
    "#scaled prices that is dependent variable\n",
    "scaled_y=sy.fit_transform(df['price'].values.reshape(df.shape[0],1))#reshaping the price bcz fit and tramsform method expect 2d array\n",
    "scaled_y"
   ]
  },
  {
   "cell_type": "markdown",
   "id": "02cc2463",
   "metadata": {},
   "source": [
    "# implementation of batch descent from scratch"
   ]
  },
  {
   "cell_type": "code",
   "execution_count": 6,
   "id": "5938a333",
   "metadata": {},
   "outputs": [],
   "source": [
    "# print(scaled_x.shape[1])\n",
    "# print(np.ones(shape=(number_of_features)))"
   ]
  },
  {
   "cell_type": "code",
   "execution_count": 7,
   "id": "d5cd2e80",
   "metadata": {},
   "outputs": [
    {
     "data": {
      "text/plain": [
       "array([[0.08827586, 0.25      ],\n",
       "       [0.62068966, 0.75      ],\n",
       "       [0.22068966, 0.5       ],\n",
       "       [0.24862069, 0.5       ],\n",
       "       [0.13793103, 0.25      ],\n",
       "       [0.12758621, 0.25      ],\n",
       "       [0.6662069 , 0.75      ],\n",
       "       [0.86206897, 0.75      ],\n",
       "       [0.17586207, 0.5       ],\n",
       "       [1.        , 1.        ],\n",
       "       [0.34482759, 0.5       ],\n",
       "       [0.68448276, 0.75      ],\n",
       "       [0.06896552, 0.25      ],\n",
       "       [0.10344828, 0.25      ],\n",
       "       [0.5       , 0.5       ],\n",
       "       [0.12931034, 0.25      ],\n",
       "       [0.13103448, 0.5       ],\n",
       "       [0.25517241, 0.5       ],\n",
       "       [0.67931034, 0.5       ],\n",
       "       [0.        , 0.        ]])"
      ]
     },
     "execution_count": 7,
     "metadata": {},
     "output_type": "execute_result"
    }
   ],
   "source": [
    "scaled_x\n"
   ]
  },
  {
   "cell_type": "code",
   "execution_count": 8,
   "id": "1432d3bf",
   "metadata": {},
   "outputs": [
    {
     "data": {
      "text/plain": [
       "(array([0.58391186, 0.37901352]), -0.0007735672117181209, 0.008501492548236428)"
      ]
     },
     "execution_count": 8,
     "metadata": {},
     "output_type": "execute_result"
    }
   ],
   "source": [
    "#batch_gradient _descent function will take argument as x, y, no of epoch and learning rate\n",
    "def batch_gradient_descent(x,y_true,epochs,learning_rate=0.01):\n",
    "    #initiasialise weights as an array of ones\n",
    "    number_of_features=x.shape[1]\n",
    "    w=np.ones(shape=(number_of_features))# so we will give you w1=1 and w2=1\n",
    "    bias=0\n",
    "    #calculating the total no of sample in the input data\n",
    "    total_sample=x.shape[0]\n",
    "    \n",
    "    #created empty lists to store the cost and epochs values\n",
    "    cost_list=[]\n",
    "    epoch_list=[]\n",
    "    \n",
    "    for i in range(epochs):\n",
    "        #so, y_predicted=w1*area+w2*bedrooms+bias so, in next line we will implement this\n",
    "        #calculating the predicted value using current weihts and bias\n",
    "        y_predicted=np.dot(w,scaled_x.T)+bias\n",
    "        \n",
    "        #calculate the gradient of weight and bias\n",
    "        w_grad = -(2/total_sample)* (x.T.dot(y_true-y_predicted))\n",
    "        b_grad= -(2/total_sample)*np.sum(y_true-y_predicted)\n",
    "        #Update the weights and bias using gradient and learning rate\n",
    "        w=w-learning_rate*w_grad\n",
    "        b=bias-learning_rate*b_grad\n",
    "        \n",
    "        #calculating the cost using mean square error\n",
    "        cost=np.mean(np.square(y_true-y_predicted))\n",
    "        \n",
    "        #Append the cost and epochs values to their respective lists\n",
    "        if i%10==0:\n",
    "            cost_list.append(cost)\n",
    "            epoch_list.append(i)\n",
    "    #return the final weights.bias,cost, and the cost and epoch        \n",
    "    return w,b,cost,cost_list,epoch_list\n",
    "#call the function with the scaled input and output data and specified parameter\n",
    "w,b,cost,cost_list,epoch_list=batch_gradient_descent(scaled_x,scaled_y.reshape(scaled_y.shape[0],),500)\n",
    "w,b,cost\n",
    "\n",
    "        \n",
    "        \n",
    "    \n",
    "    "
   ]
  },
  {
   "cell_type": "code",
   "execution_count": 9,
   "id": "17dce376",
   "metadata": {},
   "outputs": [
    {
     "data": {
      "image/png": "[encoded data removed]",
      "text/plain": [
       "<Figure size 432x288 with 1 Axes>"
      ]
     },
     "metadata": {
      "needs_background": "light"
     },
     "output_type": "display_data"
    }
   ],
   "source": [
    "plt.xlabel(\"epoc\")\n",
    "plt.ylabel(\"cost\")\n",
    "plt.plot(epoch_list,cost_list)\n",
    "plt.show()"
   ]
  },
  {
   "cell_type": "code",
   "execution_count": 10,
   "id": "2ce89e25",
   "metadata": {},
   "outputs": [
    {
     "name": "stdout",
     "output_type": "stream",
     "text": [
      "(2,)\n"
     ]
    },
    {
     "name": "stderr",
     "output_type": "stream",
     "text": [
      "C:\\Users\\ronak\\anaconda3\\lib\\site-packages\\sklearn\\base.py:450: UserWarning: X does not have valid feature names, but MinMaxScaler was fitted with feature names\n",
      "  warnings.warn(\n"
     ]
    },
    {
     "data": {
      "text/plain": [
       "119.19847463385561"
      ]
     },
     "execution_count": 10,
     "metadata": {},
     "output_type": "execute_result"
    }
   ],
   "source": [
    "def predict(area,bedroom,w,b):\n",
    "    scaled_x=sx.transform([[area,bedroom]])[0]\n",
    "    print(scaled_x.shape)\n",
    "    scaled_price=w[0]*scaled_x[0]+w[1]*scaled_x[1]+b\n",
    "    return sy.inverse_transform([[scaled_price]])[0][0]\n",
    "\n",
    "predict(2600,4,w,b)\n",
    "    \n"
   ]
  },
  {
   "cell_type": "code",
   "execution_count": 11,
   "id": "dd97e067",
   "metadata": {},
   "outputs": [
    {
     "name": "stdout",
     "output_type": "stream",
     "text": [
      "(2,)\n"
     ]
    },
    {
     "name": "stderr",
     "output_type": "stream",
     "text": [
      "C:\\Users\\ronak\\anaconda3\\lib\\site-packages\\sklearn\\base.py:450: UserWarning: X does not have valid feature names, but MinMaxScaler was fitted with feature names\n",
      "  warnings.warn(\n"
     ]
    },
    {
     "data": {
      "text/plain": [
       "50.123695618313185"
      ]
     },
     "execution_count": 11,
     "metadata": {},
     "output_type": "execute_result"
    }
   ],
   "source": [
    "predict(1000,2,w,b)"
   ]
  },
  {
   "cell_type": "code",
   "execution_count": null,
   "id": "a59badb1",
   "metadata": {},
   "outputs": [],
   "source": []
  },
  {
   "cell_type": "code",
   "execution_count": 12,
   "id": "7f227ca3",
   "metadata": {},
   "outputs": [
    {
     "data": {
      "text/plain": [
       "(array([0.7252363 , 0.69479629]), -0.2498026762784204, 0.0036485517466510915)"
      ]
     },
     "execution_count": 12,
     "metadata": {},
     "output_type": "execute_result"
    }
   ],
   "source": [
    "import random\n",
    "def stochastic_gradient_Descent(X,y_true,epochs,learning_rate=0.01):\n",
    "    number_of_features=X.shape[1]\n",
    "    #numpy array with 1 row and columns equal to number of features.\n",
    "    #In our case number_of_features=3 (area,bedroom )\n",
    "    w=np.ones(shape=(number_of_features))\n",
    "    b=0\n",
    "    \n",
    "    total_samples=X.shape[0]\n",
    "    \n",
    "    cost_list=[]\n",
    "    epoch_list=[]\n",
    "    \n",
    "    for i in range(epochs):\n",
    "        random_index=random.randint(0,total_samples-1)\n",
    "        sample_x=X[random_index]\n",
    "        sample_y=y_true[random_index]\n",
    "        y_predicted=np.dot(w,sample_x.T)+b\n",
    "        \n",
    "        w_grad=-(2/total_samples)*(sample_x.T.dot(sample_y-y_predicted))\n",
    "        b_grad=-(2/total_samples)*(sample_y-y_predicted)\n",
    "        \n",
    "        w=w-learning_rate*w_grad\n",
    "        b=b-learning_rate*b_grad\n",
    "        \n",
    "        cost=np.square(sample_y-y_predicted)\n",
    "        \n",
    "        if i%100 == 0:# at every 100th iteration record the cost and epoch time\n",
    "            cost_list.append(cost)\n",
    "            epoch_list.append(i)\n",
    "    return w,b,cost,cost_list,epoch_list\n",
    "w_sgd,b_sgd,cost_sgd,cost_list_sgd,epoch_list_sgd=stochastic_gradient_Descent(scaled_x,scaled_y.reshape(scaled_y.shape[0],),8000)\n",
    "w_sgd,b_sgd,cost_sgd"
   ]
  },
  {
   "cell_type": "code",
   "execution_count": 13,
   "id": "e939318d",
   "metadata": {},
   "outputs": [
    {
     "data": {
      "text/plain": [
       "(array([0.58391186, 0.37901352]), -0.0007735672117181209, 0.008501492548236428)"
      ]
     },
     "execution_count": 13,
     "metadata": {},
     "output_type": "execute_result"
    }
   ],
   "source": [
    "w,b,cost"
   ]
  },
  {
   "cell_type": "code",
   "execution_count": 14,
   "id": "73670d7c",
   "metadata": {},
   "outputs": [
    {
     "data": {
      "text/plain": [
       "[<matplotlib.lines.Line2D at 0x2246aaba340>]"
      ]
     },
     "execution_count": 14,
     "metadata": {},
     "output_type": "execute_result"
    },
    {
     "data": {
      "image/png": "[encoded data removed]",
      "text/plain": [
       "<Figure size 432x288 with 1 Axes>"
      ]
     },
     "metadata": {
      "needs_background": "light"
     },
     "output_type": "display_data"
    }
   ],
   "source": [
    "plt.xlabel(\"epoch\")\n",
    "plt.ylabel(\"cost\")\n",
    "plt.plot(epoch_list_sgd,cost_list_sgd)"
   ]
  },
  {
   "cell_type": "code",
   "execution_count": 15,
   "id": "4a84e5dc",
   "metadata": {},
   "outputs": [
    {
     "name": "stdout",
     "output_type": "stream",
     "text": [
      "(2,)\n"
     ]
    },
    {
     "name": "stderr",
     "output_type": "stream",
     "text": [
      "C:\\Users\\ronak\\anaconda3\\lib\\site-packages\\sklearn\\base.py:450: UserWarning: X does not have valid feature names, but MinMaxScaler was fitted with feature names\n",
      "  warnings.warn(\n"
     ]
    },
    {
     "data": {
      "text/plain": [
       "129.39456359962324"
      ]
     },
     "execution_count": 15,
     "metadata": {},
     "output_type": "execute_result"
    }
   ],
   "source": [
    "predict(2600,4,w_sgd,b_sgd)"
   ]
  },
  {
   "cell_type": "code",
   "execution_count": 16,
   "id": "24957afd",
   "metadata": {},
   "outputs": [
    {
     "data": {
      "text/html": [
       "<div>\n",
       "<style scoped>\n",
       "    .dataframe tbody tr th:only-of-type {\n",
       "        vertical-align: middle;\n",
       "    }\n",
       "\n",
       "    .dataframe tbody tr th {\n",
       "        vertical-align: top;\n",
       "    }\n",
       "\n",
       "    .dataframe thead th {\n",
       "        text-align: right;\n",
       "    }\n",
       "</style>\n",
       "<table border=\"1\" class=\"dataframe\">\n",
       "  <thead>\n",
       "    <tr style=\"text-align: right;\">\n",
       "      <th></th>\n",
       "      <th>area</th>\n",
       "      <th>bedrooms</th>\n",
       "      <th>price</th>\n",
       "    </tr>\n",
       "  </thead>\n",
       "  <tbody>\n",
       "    <tr>\n",
       "      <th>6</th>\n",
       "      <td>2732</td>\n",
       "      <td>4</td>\n",
       "      <td>135.0</td>\n",
       "    </tr>\n",
       "    <tr>\n",
       "      <th>19</th>\n",
       "      <td>800</td>\n",
       "      <td>1</td>\n",
       "      <td>32.0</td>\n",
       "    </tr>\n",
       "    <tr>\n",
       "      <th>2</th>\n",
       "      <td>1440</td>\n",
       "      <td>3</td>\n",
       "      <td>62.0</td>\n",
       "    </tr>\n",
       "    <tr>\n",
       "      <th>8</th>\n",
       "      <td>1310</td>\n",
       "      <td>3</td>\n",
       "      <td>50.0</td>\n",
       "    </tr>\n",
       "    <tr>\n",
       "      <th>13</th>\n",
       "      <td>1100</td>\n",
       "      <td>2</td>\n",
       "      <td>40.0</td>\n",
       "    </tr>\n",
       "  </tbody>\n",
       "</table>\n",
       "</div>"
      ],
      "text/plain": [
       "    area  bedrooms  price\n",
       "6   2732         4  135.0\n",
       "19   800         1   32.0\n",
       "2   1440         3   62.0\n",
       "8   1310         3   50.0\n",
       "13  1100         2   40.0"
      ]
     },
     "execution_count": 16,
     "metadata": {},
     "output_type": "execute_result"
    }
   ],
   "source": [
    "df.sample(5)"
   ]
  },
  {
   "cell_type": "code",
   "execution_count": 17,
   "id": "706aa97b",
   "metadata": {},
   "outputs": [
    {
     "data": {
      "text/plain": [
       "(20, 1)"
      ]
     },
     "execution_count": 17,
     "metadata": {},
     "output_type": "execute_result"
    }
   ],
   "source": [
    "scaled_y.shape"
   ]
  },
  {
   "cell_type": "code",
   "execution_count": null,
   "id": "82430cbf",
   "metadata": {},
   "outputs": [],
   "source": []
  },
  {
   "cell_type": "code",
   "execution_count": 18,
   "id": "7de6ebb8",
   "metadata": {},
   "outputs": [
    {
     "data": {
      "text/plain": [
       "(20, 2)"
      ]
     },
     "execution_count": 18,
     "metadata": {},
     "output_type": "execute_result"
    }
   ],
   "source": [
    "scaled_x.shape"
   ]
  },
  {
   "cell_type": "markdown",
   "id": "2b0a248d",
   "metadata": {},
   "source": [
    "### mini batch gradient descent"
   ]
  },
  {
   "cell_type": "code",
   "execution_count": 19,
   "id": "4e5af590",
   "metadata": {},
   "outputs": [
    {
     "data": {
      "text/plain": [
       "array([12,  2, 16, 19, 13, 11, 15,  3,  0,  7, 10,  6, 18, 17,  4,  5,  1,\n",
       "        8,  9, 14])"
      ]
     },
     "execution_count": 19,
     "metadata": {},
     "output_type": "execute_result"
    }
   ],
   "source": [
    "np.random.permutation(20)"
   ]
  },
  {
   "cell_type": "code",
   "execution_count": 26,
   "id": "5fb016c9",
   "metadata": {},
   "outputs": [
    {
     "data": {
      "text/plain": [
       "2"
      ]
     },
     "execution_count": 26,
     "metadata": {},
     "output_type": "execute_result"
    }
   ],
   "source": [
    "scaled_x.shape[1]"
   ]
  },
  {
   "cell_type": "code",
   "execution_count": 28,
   "id": "71bcd8a7",
   "metadata": {},
   "outputs": [
    {
     "data": {
      "text/plain": [
       "(array([0.71019286, 0.6781282 ]), -0.23341704519323483, 0.005051330001110485)"
      ]
     },
     "execution_count": 28,
     "metadata": {},
     "output_type": "execute_result"
    }
   ],
   "source": [
    "def mini_batch_gradient_descent(X,y_true,epochs=100,batch_size=5,learning_rate=0.01):\n",
    "    number_of_feature=X.shape[1]\n",
    "    w=np.ones(shape=(number_of_feature))\n",
    "    b=0\n",
    "    total_sample=X.shape[0]#no of rows in x\n",
    "    if batch_size>total_sample:#in this case mini batch become same as batch gradient descent\n",
    "        batch_size=total_sample\n",
    "    cost_list_mini=[]\n",
    "    epoch_list_mini=[]\n",
    "\n",
    "    num_batches=int(total_sample/batch_size)\n",
    "    \n",
    "    for i in range(epochs):\n",
    "        random_indices=np.random.permutation(total_sample)#it will print the random permutation between 0 to total_sample-1\n",
    "        X_tmp=X[random_indices]\n",
    "        y_tmp=y_true[random_indices]\n",
    "        \n",
    "        for j in range(0,total_sample,batch_size):\n",
    "            Xj=X_tmp[j:j+batch_size]\n",
    "            yj=y_tmp[j:j+batch_size]\n",
    "            y_prdicted=np.dot(w,Xj.T)+ b\n",
    "            \n",
    "            w_grd=-(2/len(Xj))*(Xj.T.dot(yj-y_prdicted))\n",
    "            b_grd=-(2/len(Xj))*np.sum(yj-y_prdicted)\n",
    "            \n",
    "            w=w-learning_rate*w_grd\n",
    "            b=b-learning_rate*b_grd\n",
    "            \n",
    "            cost=np.mean(np.square(yj-y_prdicted))#mean square error\n",
    "            \n",
    "        if i%10==0:\n",
    "            cost_list.append(cost)\n",
    "            epoch_list.append(i)\n",
    "    return w,b,cost,cost_list,epoch_list\n",
    "w,b,cost,cost_list,epoch_list=mini_batch_gradient_descent(scaled_x,\n",
    "                                                        scaled_y.reshape(scaled_y.shape[0],),\n",
    "                                                         epochs=120,batch_size=5)\n",
    "w,b,cost\n",
    "            "
   ]
  },
  {
   "cell_type": "code",
   "execution_count": 29,
   "id": "1e65a4f4",
   "metadata": {},
   "outputs": [
    {
     "data": {
      "text/plain": [
       "[<matplotlib.lines.Line2D at 0x2246b461f10>]"
      ]
     },
     "execution_count": 29,
     "metadata": {},
     "output_type": "execute_result"
    },
    {
     "data": {
      "image/png": "[encoded data removed]",
      "text/plain": [
       "<Figure size 432x288 with 1 Axes>"
      ]
     },
     "metadata": {
      "needs_background": "light"
     },
     "output_type": "display_data"
    }
   ],
   "source": [
    "plt.xlabel(\"epoch\")\n",
    "plt.ylabel(\"cost\")\n",
    "plt.plot(epoch_list,cost_list)"
   ]
  },
  {
   "cell_type": "code",
   "execution_count": null,
   "id": "d5025442",
   "metadata": {},
   "outputs": [],
   "source": []
  }
 ],
 "metadata": {
  "kernelspec": {
   "display_name": "Python 3 (ipykernel)",
   "language": "python",
   "name": "python3"
  },
  "language_info": {
   "codemirror_mode": {
    "name": "ipython",
    "version": 3
   },
   "file_extension": ".py",
   "mimetype": "text/x-python",
   "name": "python",
   "nbconvert_exporter": "python",
   "pygments_lexer": "ipython3",
   "version": "3.9.12"
  }
 },
 "nbformat": 4,
 "nbformat_minor": 5
}
