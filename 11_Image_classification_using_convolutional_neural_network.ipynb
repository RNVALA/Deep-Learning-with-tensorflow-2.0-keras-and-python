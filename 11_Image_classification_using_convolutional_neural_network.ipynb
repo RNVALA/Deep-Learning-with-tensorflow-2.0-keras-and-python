{
 "cells": [
  {
   "cell_type": "markdown",
   "id": "ac788f46",
   "metadata": {
    "id": "ac788f46"
   },
   "source": [
    "### CIFAR-10 image dataset\n",
    "- The CIFAR-10 datasets consist of 60000  32*32 colour images per class. They are 50000 traininig images and 10000 test images\n",
    "- we are doing classification of 10 categories\n"
   ]
  },
  {
   "cell_type": "code",
   "execution_count": 80,
   "id": "e6459d96",
   "metadata": {
    "id": "e6459d96"
   },
   "outputs": [],
   "source": [
    "import tensorflow as tf\n",
    "from tensorflow.keras import datasets,layers,models\n",
    "\n",
    "import matplotlib.pyplot as plt\n",
    "import numpy as np"
   ]
  },
  {
   "cell_type": "code",
   "execution_count": 81,
   "id": "c80d13c8",
   "metadata": {
    "colab": {
     "base_uri": "https://localhost:8080/"
    },
    "id": "c80d13c8",
    "outputId": "f21fc756-d596-4e3b-a6db-437d7a09ddb1"
   },
   "outputs": [
    {
     "data": {
      "text/plain": [
       "(50000, 32, 32, 3)"
      ]
     },
     "execution_count": 81,
     "metadata": {},
     "output_type": "execute_result"
    }
   ],
   "source": [
    "(X_train,y_train),(X_test,y_test)=datasets.cifar10.load_data()\n",
    "X_train.shape"
   ]
  },
  {
   "cell_type": "code",
   "execution_count": 82,
   "id": "9a020f28",
   "metadata": {
    "colab": {
     "base_uri": "https://localhost:8080/"
    },
    "id": "9a020f28",
    "outputId": "38ba8f41-5832-4d63-b7c3-27cd60228d7c"
   },
   "outputs": [
    {
     "data": {
      "text/plain": [
       "(10000, 32, 32, 3)"
      ]
     },
     "execution_count": 82,
     "metadata": {},
     "output_type": "execute_result"
    }
   ],
   "source": [
    "X_test.shape"
   ]
  },
  {
   "cell_type": "code",
   "execution_count": 83,
   "id": "9eac3a29",
   "metadata": {
    "colab": {
     "base_uri": "https://localhost:8080/"
    },
    "id": "9eac3a29",
    "outputId": "e1aca7bb-d0bd-4edf-fec5-7885d38d4594"
   },
   "outputs": [
    {
     "data": {
      "text/plain": [
       "(50000, 1)"
      ]
     },
     "execution_count": 83,
     "metadata": {},
     "output_type": "execute_result"
    }
   ],
   "source": [
    "y_train.shape"
   ]
  },
  {
   "cell_type": "code",
   "execution_count": 84,
   "id": "73ed51e5",
   "metadata": {
    "colab": {
     "base_uri": "https://localhost:8080/"
    },
    "id": "73ed51e5",
    "outputId": "c76a3cf0-ee5b-4727-a48f-1eea522af98a"
   },
   "outputs": [
    {
     "data": {
      "text/plain": [
       "(10000, 1)"
      ]
     },
     "execution_count": 84,
     "metadata": {},
     "output_type": "execute_result"
    }
   ],
   "source": [
    "y_test.shape"
   ]
  },
  {
   "cell_type": "code",
   "execution_count": 85,
   "id": "9ec8cd0c",
   "metadata": {
    "colab": {
     "base_uri": "https://localhost:8080/"
    },
    "id": "9ec8cd0c",
    "outputId": "d6fd9918-067d-46ed-add7-181f0d6dca2f"
   },
   "outputs": [
    {
     "data": {
      "text/plain": [
       "array([[6],\n",
       "       [9],\n",
       "       [9],\n",
       "       [4],\n",
       "       [1]], dtype=uint8)"
      ]
     },
     "execution_count": 85,
     "metadata": {},
     "output_type": "execute_result"
    }
   ],
   "source": [
    "y_train[:5]"
   ]
  },
  {
   "cell_type": "code",
   "execution_count": 86,
   "id": "c67ce6cb",
   "metadata": {
    "id": "c67ce6cb"
   },
   "outputs": [],
   "source": [
    "y_train=y_train.reshape(-1,)#reshaping the y label 2d to 1d array"
   ]
  },
  {
   "cell_type": "code",
   "execution_count": 87,
   "id": "d8b0d58f",
   "metadata": {
    "colab": {
     "base_uri": "https://localhost:8080/"
    },
    "id": "d8b0d58f",
    "outputId": "92238c99-3326-455b-86c4-7d637af50227"
   },
   "outputs": [
    {
     "data": {
      "text/plain": [
       "array([6, 9, 9, 4, 1], dtype=uint8)"
      ]
     },
     "execution_count": 87,
     "metadata": {},
     "output_type": "execute_result"
    }
   ],
   "source": [
    "y_train[:5]"
   ]
  },
  {
   "cell_type": "code",
   "execution_count": 88,
   "id": "1d836ede",
   "metadata": {
    "id": "1d836ede"
   },
   "outputs": [],
   "source": [
    "\n",
    "classes = [\"airplane\",\"automobile\",\"bird\",\"cat\",\"deer\",\"dog\",\"frog\",\"horse\",\"ship\",\"truck\"]"
   ]
  },
  {
   "cell_type": "code",
   "execution_count": 89,
   "id": "f8edb354",
   "metadata": {
    "id": "f8edb354"
   },
   "outputs": [],
   "source": [
    "def plot_sample(X, y, index):\n",
    "    plt.figure(figsize = (15,2))\n",
    "    plt.imshow(X[index])\n",
    "    plt.xlabel(classes[y[index]])"
   ]
  },
  {
   "cell_type": "code",
   "execution_count": 90,
   "id": "24f26101",
   "metadata": {
    "colab": {
     "base_uri": "https://localhost:8080/",
     "height": 237
    },
    "id": "24f26101",
    "outputId": "bb0c0ec7-e365-4271-e40b-66a7b52d7001"
   },
   "outputs": [
    {
     "data": {
      "image/png": "[encoded data removed]",
      "text/plain": [
       "<Figure size 1500x200 with 1 Axes>"
      ]
     },
     "metadata": {},
     "output_type": "display_data"
    }
   ],
   "source": [
    "plot_sample(X_train,y_train,1)"
   ]
  },
  {
   "cell_type": "markdown",
   "id": "5a54f518",
   "metadata": {
    "id": "5a54f518"
   },
   "source": [
    "### Preprocessing:Scale image"
   ]
  },
  {
   "cell_type": "code",
   "execution_count": 91,
   "id": "83a39002",
   "metadata": {
    "id": "83a39002"
   },
   "outputs": [],
   "source": [
    "#we want to do normalize between 0 to 1 ramge\n",
    "X_train_scaled=X_train/255\n",
    "X_test_scales=X_test/255"
   ]
  },
  {
   "cell_type": "markdown",
   "id": "26c81081",
   "metadata": {
    "id": "26c81081"
   },
   "source": [
    "-The to_categorical function from the Keras library is used for this purpose. It takes in the integer labels as input and converts them into a binary matrix representation, where each column corresponds to a class label and each row corresponds to a sample.\n",
    "\n",
    "-For example, if the original label of a sample is 3, then after one-hot encoding, the corresponding row of the binary matrix would be [0, 0, 0, 1, 0, 0, 0, 0, 0, 0], where the fourth element is set to 1 to indicate the class label."
   ]
  },
  {
   "cell_type": "code",
   "execution_count": 92,
   "id": "1b090249",
   "metadata": {
    "id": "1b090249"
   },
   "outputs": [],
   "source": [
    "# from tensorflow import keras\n",
    "# y_train_categorical=keras.utils.to_categorical(y_train,num_classes=10,dtype='float32')\n",
    "# y_test_categorical=keras.utils.to_categorical(y_test,num_classes=10,dtype='float32')"
   ]
  },
  {
   "cell_type": "code",
   "execution_count": 93,
   "id": "d842ce97",
   "metadata": {
    "id": "d842ce97"
   },
   "outputs": [],
   "source": [
    "# y_train[:5]"
   ]
  },
  {
   "cell_type": "code",
   "execution_count": 94,
   "id": "5cb422da",
   "metadata": {
    "id": "5cb422da"
   },
   "outputs": [],
   "source": [
    "# y_train_categorical[:5]"
   ]
  },
  {
   "cell_type": "markdown",
   "id": "4efea7ba",
   "metadata": {
    "id": "4efea7ba"
   },
   "source": [
    "### Model Building and training\n"
   ]
  },
  {
   "cell_type": "code",
   "execution_count": 95,
   "id": "90bf1dd6",
   "metadata": {
    "colab": {
     "base_uri": "https://localhost:8080/"
    },
    "id": "90bf1dd6",
    "outputId": "dea50866-83e5-4cab-88f3-2b35d43d23aa"
   },
   "outputs": [
    {
     "name": "stdout",
     "output_type": "stream",
     "text": [
      "Epoch 1/5\n",
      "1563/1563 [==============================] - 7s 4ms/step - loss: 1.8178 - accuracy: 0.3533\n",
      "Epoch 2/5\n",
      "1563/1563 [==============================] - 7s 4ms/step - loss: 1.6251 - accuracy: 0.4253\n",
      "Epoch 3/5\n",
      "1563/1563 [==============================] - 6s 4ms/step - loss: 1.5404 - accuracy: 0.4547\n",
      "Epoch 4/5\n",
      "1563/1563 [==============================] - 7s 4ms/step - loss: 1.4812 - accuracy: 0.4772\n",
      "Epoch 5/5\n",
      "1563/1563 [==============================] - 6s 4ms/step - loss: 1.4311 - accuracy: 0.4951\n"
     ]
    },
    {
     "data": {
      "text/plain": [
       "<keras.callbacks.History at 0x7f9dbc0d3f10>"
      ]
     },
     "execution_count": 95,
     "metadata": {},
     "output_type": "execute_result"
    }
   ],
   "source": [
    "from tensorflow import keras\n",
    "ann=keras.Sequential([\n",
    "    keras.layers.Flatten(input_shape=(32,32,3)),\n",
    "    keras.layers.Dense(3000,activation='relu'),\n",
    "    keras.layers.Dense(1000,activation='relu'),\n",
    "    keras.layers.Dense(10,activation='sigmoid')\n",
    "])\n",
    "ann.compile(optimizer='SGD',\n",
    "             loss='sparse_categorical_crossentropy',#if you have y_train is in simple no then use sparse categorical crossentropy and if you have y_train and y_test is in onehotencoded format use categorical crossentropy\n",
    "             metrics=['accuracy'])\n",
    "ann.fit(X_train_scaled,y_train,epochs=5)"
   ]
  },
  {
   "cell_type": "markdown",
   "id": "203296f1",
   "metadata": {
    "id": "203296f1"
   },
   "source": [
    "### lets's make some prediction"
   ]
  },
  {
   "cell_type": "code",
   "execution_count": 96,
   "id": "372e4286",
   "metadata": {
    "colab": {
     "base_uri": "https://localhost:8080/"
    },
    "id": "372e4286",
    "outputId": "0b9da583-e116-4b69-904d-acd1ba9ca691"
   },
   "outputs": [
    {
     "name": "stdout",
     "output_type": "stream",
     "text": [
      "313/313 [==============================] - 1s 3ms/step - loss: 262.1871 - accuracy: 0.3874\n"
     ]
    },
    {
     "data": {
      "text/plain": [
       "[262.1871337890625, 0.3874000012874603]"
      ]
     },
     "execution_count": 96,
     "metadata": {},
     "output_type": "execute_result"
    }
   ],
   "source": [
    "ann.evaluate(X_test,y_test)"
   ]
  },
  {
   "cell_type": "code",
   "execution_count": 97,
   "id": "ZJlsFyRxXVCb",
   "metadata": {
    "colab": {
     "base_uri": "https://localhost:8080/"
    },
    "id": "ZJlsFyRxXVCb",
    "outputId": "97b124b8-56a1-4b88-d890-83705a985491"
   },
   "outputs": [
    {
     "name": "stdout",
     "output_type": "stream",
     "text": [
      "313/313 [==============================] - 1s 2ms/step\n",
      "classification Report \n",
      "               precision    recall  f1-score   support\n",
      "\n",
      "           0       0.17      0.96      0.29      1000\n",
      "           1       0.19      0.27      0.22      1000\n",
      "           2       0.17      0.30      0.21      1000\n",
      "           3       0.20      0.20      0.20      1000\n",
      "           4       0.33      0.00      0.01      1000\n",
      "           5       0.00      0.00      0.00      1000\n",
      "           6       0.00      0.00      0.00      1000\n",
      "           7       0.50      0.00      0.01      1000\n",
      "           8       0.00      0.00      0.00      1000\n",
      "           9       0.00      0.00      0.00      1000\n",
      "\n",
      "    accuracy                           0.17     10000\n",
      "   macro avg       0.16      0.17      0.09     10000\n",
      "weighted avg       0.16      0.17      0.09     10000\n",
      "\n"
     ]
    },
    {
     "name": "stderr",
     "output_type": "stream",
     "text": [
      "/usr/local/lib/python3.10/dist-packages/sklearn/metrics/_classification.py:1344: UndefinedMetricWarning: Precision and F-score are ill-defined and being set to 0.0 in labels with no predicted samples. Use `zero_division` parameter to control this behavior.\n",
      "  _warn_prf(average, modifier, msg_start, len(result))\n",
      "/usr/local/lib/python3.10/dist-packages/sklearn/metrics/_classification.py:1344: UndefinedMetricWarning: Precision and F-score are ill-defined and being set to 0.0 in labels with no predicted samples. Use `zero_division` parameter to control this behavior.\n",
      "  _warn_prf(average, modifier, msg_start, len(result))\n",
      "/usr/local/lib/python3.10/dist-packages/sklearn/metrics/_classification.py:1344: UndefinedMetricWarning: Precision and F-score are ill-defined and being set to 0.0 in labels with no predicted samples. Use `zero_division` parameter to control this behavior.\n",
      "  _warn_prf(average, modifier, msg_start, len(result))\n"
     ]
    }
   ],
   "source": [
    "from sklearn.metrics import confusion_matrix,classification_report\n",
    "import numpy as np\n",
    "y_pred=ann.predict(X_test)\n",
    "y_pred_classes=[np.argmax(element) for element in y_pred]\n",
    "print(\"classification Report \\n\",classification_report(y_test,y_pred_classes))"
   ]
  },
  {
   "cell_type": "code",
   "execution_count": 98,
   "id": "FEiuMbmQYHsY",
   "metadata": {
    "id": "FEiuMbmQYHsY"
   },
   "outputs": [],
   "source": [
    "cnn=models.Sequential([\n",
    "    #cnn\n",
    "    layers.Conv2D(filters=32,kernel_size=(3,3),activation='relu',input_shape=(32,32,3)),\n",
    "    layers.MaxPooling2D((2,2)),\n",
    "\n",
    "    layers.Conv2D(filters=64,kernel_size=(3,3),activation='relu'),\n",
    "    layers.MaxPooling2D((2,2)),\n",
    "\n",
    "    #dense\n",
    "    layers.Flatten(),\n",
    "    layers.Dense(64,activation='relu'),\n",
    "    layers.Dense(10,activation='softmax')\n",
    "    \n",
    "])"
   ]
  },
  {
   "cell_type": "code",
   "execution_count": 99,
   "id": "yrXKm2iBd_Ct",
   "metadata": {
    "id": "yrXKm2iBd_Ct"
   },
   "outputs": [],
   "source": [
    "cnn.compile(optimizer='adam',\n",
    "              loss='sparse_categorical_crossentropy',\n",
    "              metrics=['accuracy'])"
   ]
  },
  {
   "cell_type": "code",
   "execution_count": 100,
   "id": "AL3J4OP1exX3",
   "metadata": {
    "colab": {
     "base_uri": "https://localhost:8080/"
    },
    "id": "AL3J4OP1exX3",
    "outputId": "9bd890fc-c133-4405-a665-111e3115281c"
   },
   "outputs": [
    {
     "name": "stdout",
     "output_type": "stream",
     "text": [
      "Epoch 1/10\n",
      "1563/1563 [==============================] - 8s 4ms/step - loss: 1.8914 - accuracy: 0.3919\n",
      "Epoch 2/10\n",
      "1563/1563 [==============================] - 7s 4ms/step - loss: 1.3138 - accuracy: 0.5336\n",
      "Epoch 3/10\n",
      "1563/1563 [==============================] - 6s 4ms/step - loss: 1.1694 - accuracy: 0.5925\n",
      "Epoch 4/10\n",
      "1563/1563 [==============================] - 7s 4ms/step - loss: 1.0536 - accuracy: 0.6328\n",
      "Epoch 5/10\n",
      "1563/1563 [==============================] - 6s 4ms/step - loss: 0.9897 - accuracy: 0.6556\n",
      "Epoch 6/10\n",
      "1563/1563 [==============================] - 7s 4ms/step - loss: 0.9189 - accuracy: 0.6822\n",
      "Epoch 7/10\n",
      "1563/1563 [==============================] - 6s 4ms/step - loss: 0.8596 - accuracy: 0.7034\n",
      "Epoch 8/10\n",
      "1563/1563 [==============================] - 7s 4ms/step - loss: 0.8114 - accuracy: 0.7198\n",
      "Epoch 9/10\n",
      "1563/1563 [==============================] - 6s 4ms/step - loss: 0.7620 - accuracy: 0.7374\n",
      "Epoch 10/10\n",
      "1563/1563 [==============================] - 7s 4ms/step - loss: 0.7210 - accuracy: 0.7509\n"
     ]
    },
    {
     "data": {
      "text/plain": [
       "<keras.callbacks.History at 0x7f9dbbe18f10>"
      ]
     },
     "execution_count": 100,
     "metadata": {},
     "output_type": "execute_result"
    }
   ],
   "source": [
    "cnn.fit(X_train,y_train,epochs=10)"
   ]
  },
  {
   "cell_type": "code",
   "execution_count": 101,
   "id": "3-FsMagzfLPu",
   "metadata": {
    "colab": {
     "base_uri": "https://localhost:8080/"
    },
    "id": "3-FsMagzfLPu",
    "outputId": "f396bdb4-789c-4703-af74-e8a303113665"
   },
   "outputs": [
    {
     "name": "stdout",
     "output_type": "stream",
     "text": [
      "313/313 [==============================] - 1s 3ms/step - loss: 1.1890 - accuracy: 0.6402\n"
     ]
    },
    {
     "data": {
      "text/plain": [
       "[1.1889550685882568, 0.6402000188827515]"
      ]
     },
     "execution_count": 101,
     "metadata": {},
     "output_type": "execute_result"
    }
   ],
   "source": [
    "\n",
    "cnn.evaluate(X_test,y_test)"
   ]
  },
  {
   "cell_type": "code",
   "execution_count": 108,
   "id": "jXESl0LwfXHv",
   "metadata": {
    "colab": {
     "base_uri": "https://localhost:8080/",
     "height": 237
    },
    "id": "jXESl0LwfXHv",
    "outputId": "f6a71d7d-6370-4f46-feac-6cf23e09168c"
   },
   "outputs": [
    {
     "data": {
      "image/png": "[encoded data removed]",
      "text/plain": [
       "<Figure size 1500x200 with 1 Axes>"
      ]
     },
     "metadata": {},
     "output_type": "display_data"
    }
   ],
   "source": [
    "y_test=y_test.reshape(-1,)\n",
    "plot_sample(X_test,y_test,2)"
   ]
  },
  {
   "cell_type": "code",
   "execution_count": 103,
   "id": "wxlkO0glgPLI",
   "metadata": {
    "colab": {
     "base_uri": "https://localhost:8080/"
    },
    "id": "wxlkO0glgPLI",
    "outputId": "1798a55d-1bcb-41ac-99ce-18d085c11685"
   },
   "outputs": [
    {
     "name": "stdout",
     "output_type": "stream",
     "text": [
      "313/313 [==============================] - 1s 2ms/step\n"
     ]
    },
    {
     "data": {
      "text/plain": [
       "array([[8.0193521e-04, 4.0777088e-03, 1.3897714e-03, 8.1696826e-01,\n",
       "        1.1052055e-03, 3.3335559e-02, 4.0164903e-02, 1.5352120e-03,\n",
       "        9.8464578e-02, 2.1568991e-03],\n",
       "       [7.5703204e-02, 3.0964664e-01, 9.5448195e-07, 3.0657628e-07,\n",
       "        1.6129603e-07, 8.5280163e-08, 1.3387931e-08, 1.9955454e-08,\n",
       "        5.7566071e-01, 3.8987890e-02],\n",
       "       [6.9361627e-02, 2.3403557e-02, 1.6544053e-03, 6.1290769e-04,\n",
       "        2.3860188e-04, 9.3495328e-05, 5.3984404e-05, 3.9999606e-05,\n",
       "        9.0046686e-01, 4.0745297e-03],\n",
       "       [9.7529578e-01, 3.4138619e-03, 2.5132203e-03, 4.3700780e-05,\n",
       "        5.5296350e-05, 6.2509316e-06, 2.8344311e-05, 1.3047369e-07,\n",
       "        1.8631650e-02, 1.1747152e-05],\n",
       "       [1.7088759e-04, 1.0185963e-03, 2.3519846e-02, 1.1202482e-02,\n",
       "        5.5285460e-01, 7.2354986e-03, 4.0066206e-01, 1.5941141e-03,\n",
       "        3.7961749e-05, 1.7040034e-03]], dtype=float32)"
      ]
     },
     "execution_count": 103,
     "metadata": {},
     "output_type": "execute_result"
    }
   ],
   "source": [
    "y_pred= cnn.predict(X_test)\n",
    "y_pred[:5]\n"
   ]
  },
  {
   "cell_type": "code",
   "execution_count": 106,
   "id": "XXxCp6KamOE2",
   "metadata": {
    "colab": {
     "base_uri": "https://localhost:8080/"
    },
    "id": "XXxCp6KamOE2",
    "outputId": "b27b0756-1bb5-4671-b6d5-d2ea4a5acc9a"
   },
   "outputs": [
    {
     "data": {
      "text/plain": [
       "[3, 8, 8, 0, 4]"
      ]
     },
     "execution_count": 106,
     "metadata": {},
     "output_type": "execute_result"
    }
   ],
   "source": [
    "y_classes=[np.argmax(element) for element in y_pred]\n",
    "y_classes[:5]"
   ]
  },
  {
   "cell_type": "code",
   "execution_count": 107,
   "id": "tdizC_y7mmy5",
   "metadata": {
    "colab": {
     "base_uri": "https://localhost:8080/"
    },
    "id": "tdizC_y7mmy5",
    "outputId": "c838b384-97bf-4d12-c4cc-68fdde01dfc3"
   },
   "outputs": [
    {
     "data": {
      "text/plain": [
       "array([3, 8, 8, 0, 6], dtype=uint8)"
      ]
     },
     "execution_count": 107,
     "metadata": {},
     "output_type": "execute_result"
    }
   ],
   "source": [
    "y_test[:5]"
   ]
  },
  {
   "cell_type": "code",
   "execution_count": 111,
   "id": "muuwPg3Bm3Ow",
   "metadata": {
    "colab": {
     "base_uri": "https://localhost:8080/"
    },
    "id": "muuwPg3Bm3Ow",
    "outputId": "cf8f8904-157e-4ab8-b237-6fd43073b5ff"
   },
   "outputs": [
    {
     "data": {
      "text/plain": [
       "8"
      ]
     },
     "execution_count": 111,
     "metadata": {},
     "output_type": "execute_result"
    }
   ],
   "source": [
    "y_classes[2]"
   ]
  },
  {
   "cell_type": "code",
   "execution_count": 114,
   "id": "En5AgBIbnl7v",
   "metadata": {
    "colab": {
     "base_uri": "https://localhost:8080/",
     "height": 237
    },
    "id": "En5AgBIbnl7v",
    "outputId": "26b5726c-fc6d-49ff-9194-71f5ec29f8e4"
   },
   "outputs": [
    {
     "data": {
      "image/png": "[encoded data removed]",
      "text/plain": [
       "<Figure size 1500x200 with 1 Axes>"
      ]
     },
     "metadata": {},
     "output_type": "display_data"
    }
   ],
   "source": [
    "plot_sample(X_test,y_test,2)"
   ]
  },
  {
   "cell_type": "code",
   "execution_count": 113,
   "id": "GRKSiHHlm9l8",
   "metadata": {
    "colab": {
     "base_uri": "https://localhost:8080/",
     "height": 36
    },
    "id": "GRKSiHHlm9l8",
    "outputId": "6b47fefe-d8fa-4da6-97e7-c498154114ea"
   },
   "outputs": [
    {
     "data": {
      "application/vnd.google.colaboratory.intrinsic+json": {
       "type": "string"
      },
      "text/plain": [
       "'ship'"
      ]
     },
     "execution_count": 113,
     "metadata": {},
     "output_type": "execute_result"
    }
   ],
   "source": [
    "classes[y_classes[1]]"
   ]
  },
  {
   "cell_type": "code",
   "execution_count": null,
   "id": "U3VENrT8ncn5",
   "metadata": {
    "id": "U3VENrT8ncn5"
   },
   "outputs": [],
   "source": []
  }
 ],
 "metadata": {
  "accelerator": "GPU",
  "colab": {
   "gpuType": "T4",
   "provenance": []
  },
  "gpuClass": "standard",
  "kernelspec": {
   "display_name": "Python 3 (ipykernel)",
   "language": "python",
   "name": "python3"
  },
  "language_info": {
   "codemirror_mode": {
    "name": "ipython",
    "version": 3
   },
   "file_extension": ".py",
   "mimetype": "text/x-python",
   "name": "python",
   "nbconvert_exporter": "python",
   "pygments_lexer": "ipython3",
   "version": "3.9.12"
  }
 },
 "nbformat": 4,
 "nbformat_minor": 5
}
