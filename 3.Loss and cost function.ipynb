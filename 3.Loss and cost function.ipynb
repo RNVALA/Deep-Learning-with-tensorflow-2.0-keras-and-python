{
 "cells": [
  {
   "cell_type": "markdown",
   "id": "8480f37d",
   "metadata": {},
   "source": [
    "#  Tensorflow loss values examples\n"
   ]
  },
  {
   "cell_type": "markdown",
   "id": "2f48fbd7",
   "metadata": {},
   "source": [
    "- Sparse_Categorical_crossentropy\n",
    "- binary_crossentropy\n",
    "- categorical_crossentropy\n",
    "- mean_absolute_error\n",
    "- mean_squared_error"
   ]
  },
  {
   "cell_type": "markdown",
   "id": "a44fc44c",
   "metadata": {},
   "source": [
    "- mean_absolute_error=abs(y-y^) y= ^ is predicted value and y is real value so here  real valueis 1 and i got prediction0.99 so my error is 0.01\n",
    "- so,total error=error1+error2+error3+...................+error13=summation of i=1 to n abs(yi-y^i)\n",
    "- mean absolute error(MAE)=1/n *summation of i=1 to n abs(yi-yi^) is called cost function\n",
    "\n",
    "\n",
    "- individual error called loss or cumulative error is known as cost function\n",
    "\n",
    "- one epoc means our model is going to all the training sample once\n",
    "\n",
    "- there are other error also called mean_square_error just square the  mean absolute error\n",
    "\n",
    "- the third error is called log loss or binary_crossentropy=-1/n summation of i=0 to n yilog(y^i)+(1-yi).log(1-y^i)"
   ]
  },
  {
   "cell_type": "code",
   "execution_count": 1,
   "id": "4b66f724",
   "metadata": {},
   "outputs": [],
   "source": [
    "import numpy as np\n",
    "y_predicted=np.array([1,1,0,0,1])\n",
    "y_true=np.array([0.30,0.7,1,0,0.5])\n"
   ]
  },
  {
   "cell_type": "code",
   "execution_count": 2,
   "id": "0d2f1092",
   "metadata": {},
   "outputs": [],
   "source": [
    "#function to find mean absolute error\n",
    "def mae(y_true,y_predicted):\n",
    "    total_error=0\n",
    "    for yt,yp in zip(y_true,y_predicted):\n",
    "        #this zip function will run both the array parallel\n",
    "        total_error+=abs(yt-yp)#abs function will give difference for mean absolute error\n",
    "    print(\"total error is \",total_error)\n",
    "    mae=total_error/len(y_true)\n",
    "    print(\"mean absolute error or cost function\",mae)\n",
    "  "
   ]
  },
  {
   "cell_type": "code",
   "execution_count": 3,
   "id": "010a7718",
   "metadata": {},
   "outputs": [
    {
     "name": "stdout",
     "output_type": "stream",
     "text": [
      "total error is  2.5\n",
      "mean absolute error or cost function 0.5\n"
     ]
    }
   ],
   "source": [
    "mae(y_predicted,y_true)"
   ]
  },
  {
   "cell_type": "code",
   "execution_count": 4,
   "id": "4690388c",
   "metadata": {},
   "outputs": [
    {
     "data": {
      "text/plain": [
       "0.5"
      ]
     },
     "execution_count": 4,
     "metadata": {},
     "output_type": "execute_result"
    }
   ],
   "source": [
    "np.mean(np.abs(y_predicted-y_true))#this we are doing with the help of numpy"
   ]
  },
  {
   "cell_type": "code",
   "execution_count": 5,
   "id": "7fdd1d84",
   "metadata": {},
   "outputs": [
    {
     "data": {
      "text/plain": [
       "2.5"
      ]
     },
     "execution_count": 5,
     "metadata": {},
     "output_type": "execute_result"
    }
   ],
   "source": [
    "np.sum(np.abs(y_predicted-y_true))#total error we are finding with help of numpy"
   ]
  },
  {
   "cell_type": "markdown",
   "id": "dde99d13",
   "metadata": {},
   "source": [
    "# Log loss or binary cross entropy implementation"
   ]
  },
  {
   "cell_type": "code",
   "execution_count": 6,
   "id": "2db0567d",
   "metadata": {},
   "outputs": [
    {
     "data": {
      "text/plain": [
       "array([-41.44653167])"
      ]
     },
     "execution_count": 6,
     "metadata": {},
     "output_type": "execute_result"
    }
   ],
   "source": [
    "np.log([0.000000000000000001])#as we know that for log loss we are using log of predictedvalue,log of 0 is infinity so, we will take a value that is just bigger than 0"
   ]
  },
  {
   "cell_type": "code",
   "execution_count": 7,
   "id": "21c0cef8",
   "metadata": {},
   "outputs": [],
   "source": [
    "eplison=1e-15 #here we are taking the small value  that is just bigger than 0"
   ]
  },
  {
   "cell_type": "code",
   "execution_count": 8,
   "id": "64395ca0",
   "metadata": {},
   "outputs": [
    {
     "data": {
      "text/plain": [
       "[1, 1, 1e-15, 1e-15, 1]"
      ]
     },
     "execution_count": 8,
     "metadata": {},
     "output_type": "execute_result"
    }
   ],
   "source": [
    "#we will change the value of y_predicted where value is o,inplace of 0 we are replacing with 1e-15\n",
    "y_predicted_new=[max(i,eplison)for i in y_predicted]\n",
    "y_predicted_new"
   ]
  },
  {
   "cell_type": "code",
   "execution_count": 9,
   "id": "dfada3f4",
   "metadata": {},
   "outputs": [
    {
     "data": {
      "text/plain": [
       "[0.999999999999999, 0.999999999999999, 1e-15, 1e-15, 0.999999999999999]"
      ]
     },
     "execution_count": 9,
     "metadata": {},
     "output_type": "execute_result"
    }
   ],
   "source": [
    "#now log of 1 is also zero so, we will take value that is less than 1 or nearby 1 and less than 1 so we will take 1-eplison,here eplison is 1e-15, and it is very small no\n",
    "y_predicted_new=[min(i,1-eplison) for i in y_predicted_new]\n",
    "y_predicted_new"
   ]
  },
  {
   "cell_type": "code",
   "execution_count": 10,
   "id": "b971aa54",
   "metadata": {},
   "outputs": [
    {
     "data": {
      "text/plain": [
       "array([-9.99200722e-16, -9.99200722e-16, -3.45387764e+01, -3.45387764e+01,\n",
       "       -9.99200722e-16])"
      ]
     },
     "execution_count": 10,
     "metadata": {},
     "output_type": "execute_result"
    }
   ],
   "source": [
    "#now our predicted value is fine for log so we will apply log by converting the y_predicred_new into the numpy array\n",
    "y_predicted_new=np.array(y_predicted_new)\n",
    "np.log(y_predicted_new)\n",
    "#so as you are seeing in the output all the logs are coming "
   ]
  },
  {
   "cell_type": "code",
   "execution_count": 11,
   "id": "e6ae851e",
   "metadata": {},
   "outputs": [
    {
     "data": {
      "text/plain": [
       "17.2696280766844"
      ]
     },
     "execution_count": 11,
     "metadata": {},
     "output_type": "execute_result"
    }
   ],
   "source": [
    "#now we apply the formula for log loss or binary loss for \n",
    "-np.mean(y_true*np.log(y_predicted_new)+(1-y_true)*np.log(1-y_predicted_new))"
   ]
  },
  {
   "cell_type": "code",
   "execution_count": 12,
   "id": "17b97978",
   "metadata": {},
   "outputs": [],
   "source": [
    "def log_loss(y_true,y_predicted):\n",
    "    epsilon=1e-15\n",
    "    y_predicted_new=[max(i,epsilon) for i in y_predicted]\n",
    "    y_predicted_new=[min(i,epsilon) for i in y_predicted_new]\n",
    "    y_predicted_new=np.array(y_predicted_new)\n",
    "    return -np.mean(y_true*np.log(y_predicted_new)+(1-y_true)*np.log(1-y_predicted_new))"
   ]
  },
  {
   "cell_type": "code",
   "execution_count": 13,
   "id": "32769430",
   "metadata": {},
   "outputs": [
    {
     "name": "stdout",
     "output_type": "stream",
     "text": [
      "log loss value will be: 17.269388197455342\n"
     ]
    }
   ],
   "source": [
    "print(\"log loss value will be:\",log_loss(y_true,y_predicted))"
   ]
  },
  {
   "cell_type": "markdown",
   "id": "9b07b7e2",
   "metadata": {},
   "source": [
    "## implementing mean square error"
   ]
  },
  {
   "cell_type": "code",
   "execution_count": 17,
   "id": "3da37563",
   "metadata": {},
   "outputs": [],
   "source": [
    "def mse(y_true,y_predicted):\n",
    "    total_error=0\n",
    "    for yt,yp in zip(y_true,y_predicted):\n",
    "        total_error+=(yt-yp)**2\n",
    "    print(\"total_mean square error is\",total_error)\n",
    "    mse=total_error/len(y_true)\n",
    "    print(\"average mean square error is \",mse)\n",
    "        "
   ]
  },
  {
   "cell_type": "code",
   "execution_count": 18,
   "id": "435eae3d",
   "metadata": {},
   "outputs": [
    {
     "name": "stdout",
     "output_type": "stream",
     "text": [
      "total_mean square error is 1.83\n",
      "average mean square error is  0.366\n"
     ]
    }
   ],
   "source": [
    "mse(y_true,y_predicted)"
   ]
  },
  {
   "cell_type": "code",
   "execution_count": null,
   "id": "79c54ec5",
   "metadata": {},
   "outputs": [],
   "source": []
  }
 ],
 "metadata": {
  "kernelspec": {
   "display_name": "Python 3 (ipykernel)",
   "language": "python",
   "name": "python3"
  },
  "language_info": {
   "codemirror_mode": {
    "name": "ipython",
    "version": 3
   },
   "file_extension": ".py",
   "mimetype": "text/x-python",
   "name": "python",
   "nbconvert_exporter": "python",
   "pygments_lexer": "ipython3",
   "version": "3.9.12"
  }
 },
 "nbformat": 4,
 "nbformat_minor": 5
}
