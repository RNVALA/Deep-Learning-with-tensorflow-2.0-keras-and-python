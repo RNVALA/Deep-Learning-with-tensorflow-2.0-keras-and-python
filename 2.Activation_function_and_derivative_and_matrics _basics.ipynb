{
 "cells": [
  {
   "cell_type": "markdown",
   "id": "a45ac4aa",
   "metadata": {},
   "source": [
    "- Activation function\n",
    "- 1.tanh(z)=e^z-e^-z/e^z+e^-z it take inout and convert it between -1 to 1\n",
    "- but use sigmoid in output layer bcz it give the value  between 0 to 1\n",
    "- in all other places try to use tanh\n",
    "- issue with sigmoid and tanh\n",
    "  - vanishing gradient problem the derivative bacomes 0 or nearby 0 and learning process slows down\n",
    "- to overcome this problem we use ReLU\n",
    "   - if your value is less than 0 then output will 0 and if more than output will same as the value\n",
    "  - example if my value is -1 then i will get output as 0 and if my input is 3 then my output with relu is 3 only\n",
    "  - for hidden layers if you are not sure which activation function to use, just use ReLu as your  Default choice\n",
    "  - relu is very very lighweight function\n",
    "  - it alsoo have vanishing gradient  problem for that it have leaky ReLU\n",
    "  - Leaky ReLU(z)=max(0.1x,x)\n",
    "  \n",
    "  \n",
    "  "
   ]
  },
  {
   "cell_type": "code",
   "execution_count": 1,
   "id": "a79812e6",
   "metadata": {},
   "outputs": [],
   "source": [
    "import math\n",
    "def sigmoid(x):\n",
    "    return 1/(1+math.exp(-x))"
   ]
  },
  {
   "cell_type": "code",
   "execution_count": 2,
   "id": "6aad3b79",
   "metadata": {},
   "outputs": [
    {
     "data": {
      "text/plain": [
       "1.0"
      ]
     },
     "execution_count": 2,
     "metadata": {},
     "output_type": "execute_result"
    }
   ],
   "source": [
    "sigmoid(100)"
   ]
  },
  {
   "cell_type": "code",
   "execution_count": 3,
   "id": "abd43c1d",
   "metadata": {},
   "outputs": [
    {
     "data": {
      "text/plain": [
       "1.0"
      ]
     },
     "execution_count": 3,
     "metadata": {},
     "output_type": "execute_result"
    }
   ],
   "source": [
    "sigmoid(122)"
   ]
  },
  {
   "cell_type": "code",
   "execution_count": 4,
   "id": "c4f4b0d6",
   "metadata": {},
   "outputs": [
    {
     "data": {
      "text/plain": [
       "0.3775406687981454"
      ]
     },
     "execution_count": 4,
     "metadata": {},
     "output_type": "execute_result"
    }
   ],
   "source": [
    "sigmoid(-0.5)"
   ]
  },
  {
   "cell_type": "code",
   "execution_count": 6,
   "id": "505df63a",
   "metadata": {},
   "outputs": [
    {
     "data": {
      "text/plain": [
       "1.0"
      ]
     },
     "execution_count": 6,
     "metadata": {},
     "output_type": "execute_result"
    }
   ],
   "source": [
    "sigmoid(56)"
   ]
  },
  {
   "cell_type": "code",
   "execution_count": 10,
   "id": "5abcc21e",
   "metadata": {},
   "outputs": [],
   "source": [
    "def tenh(x):\n",
    "    return(math.exp(x)-math.exp(-x))/(math.exp(x)+math.exp(-x))"
   ]
  },
  {
   "cell_type": "code",
   "execution_count": 11,
   "id": "83511c68",
   "metadata": {},
   "outputs": [
    {
     "data": {
      "text/plain": [
       "-1.0"
      ]
     },
     "execution_count": 11,
     "metadata": {},
     "output_type": "execute_result"
    }
   ],
   "source": [
    "tenh(-56)"
   ]
  },
  {
   "cell_type": "code",
   "execution_count": 12,
   "id": "c6f8b456",
   "metadata": {},
   "outputs": [
    {
     "data": {
      "text/plain": [
       "0.964027580075817"
      ]
     },
     "execution_count": 12,
     "metadata": {},
     "output_type": "execute_result"
    }
   ],
   "source": [
    "tenh(2)"
   ]
  },
  {
   "cell_type": "code",
   "execution_count": 13,
   "id": "67341e4a",
   "metadata": {},
   "outputs": [],
   "source": [
    "def relu(x):\n",
    "    return max(0,x)"
   ]
  },
  {
   "cell_type": "code",
   "execution_count": 14,
   "id": "4097c2d4",
   "metadata": {},
   "outputs": [
    {
     "data": {
      "text/plain": [
       "0"
      ]
     },
     "execution_count": 14,
     "metadata": {},
     "output_type": "execute_result"
    }
   ],
   "source": [
    "relu(-10)"
   ]
  },
  {
   "cell_type": "code",
   "execution_count": 16,
   "id": "f82a8b6b",
   "metadata": {},
   "outputs": [
    {
     "data": {
      "text/plain": [
       "3"
      ]
     },
     "execution_count": 16,
     "metadata": {},
     "output_type": "execute_result"
    }
   ],
   "source": [
    "relu(3)"
   ]
  },
  {
   "cell_type": "code",
   "execution_count": 17,
   "id": "79418863",
   "metadata": {},
   "outputs": [],
   "source": [
    "def leaky_relu(x):\n",
    "    return max(0.1*x,x)"
   ]
  },
  {
   "cell_type": "code",
   "execution_count": 18,
   "id": "801743cb",
   "metadata": {},
   "outputs": [
    {
     "data": {
      "text/plain": [
       "8"
      ]
     },
     "execution_count": 18,
     "metadata": {},
     "output_type": "execute_result"
    }
   ],
   "source": [
    "leaky_relu(8)"
   ]
  },
  {
   "cell_type": "code",
   "execution_count": 20,
   "id": "edd3155c",
   "metadata": {},
   "outputs": [
    {
     "data": {
      "text/plain": [
       "-0.1"
      ]
     },
     "execution_count": 20,
     "metadata": {},
     "output_type": "execute_result"
    }
   ],
   "source": [
    "leaky_relu(-1)"
   ]
  },
  {
   "cell_type": "code",
   "execution_count": 21,
   "id": "614397ec",
   "metadata": {},
   "outputs": [
    {
     "data": {
      "text/plain": [
       "-5.0"
      ]
     },
     "execution_count": 21,
     "metadata": {},
     "output_type": "execute_result"
    }
   ],
   "source": [
    "leaky_relu(-50)"
   ]
  },
  {
   "cell_type": "code",
   "execution_count": 22,
   "id": "28dd8cb1",
   "metadata": {},
   "outputs": [],
   "source": [
    "#hence sigmoid function renge 0 to 1\n",
    "#tanh activation function range -1 to 1\n",
    "#relu activation function ranges between 0 to infinity\n",
    "#leaky rely activation function ranges between  -infinity to infinity\n"
   ]
  },
  {
   "cell_type": "code",
   "execution_count": 23,
   "id": "c26f0a35",
   "metadata": {},
   "outputs": [],
   "source": [
    "#we use this type of activation function from keras api and tensorflow"
   ]
  },
  {
   "cell_type": "markdown",
   "id": "ea4627dc",
   "metadata": {},
   "source": [
    "- Derivative vs slope\n",
    "     - derivative is used for non linear euation        -slope is used for linear equation\n",
    "     - derivative is function                                   -slope is constant"
   ]
  },
  {
   "cell_type": "markdown",
   "id": "63e5d08c",
   "metadata": {},
   "source": [
    "- partial derivative \n",
    "   - f(bedroom,square feet)=bedrooms^3+ square feet^2\n",
    "   - so partial derivative will d(price)/d(bedroom)=3*bedroom^2\n",
    "   - so it tells that how much a price is changing given a change in bedroom\n",
    "   - d(price)/d(square feet)=2* sqr feet\n",
    "   - how much a price is changing a given a change in square feet\n",
    " -for more information about partial derivative visit mathisfun.com"
   ]
  },
  {
   "cell_type": "markdown",
   "id": "e002ad7e",
   "metadata": {},
   "source": [
    "- matrics basics\n",
    "  -when you have single row and single column so row and column is  called vector and multiplication between them is called \n",
    "  dot product "
   ]
  },
  {
   "cell_type": "code",
   "execution_count": 24,
   "id": "90f00c2d",
   "metadata": {},
   "outputs": [],
   "source": [
    "import numpy as np\n"
   ]
  },
  {
   "cell_type": "code",
   "execution_count": 25,
   "id": "868972d3",
   "metadata": {},
   "outputs": [],
   "source": [
    "revenue=np.array([[1800,200,220],[24,36,40],[12,18,20]])\n",
    "expanses=np.array([[80,90,100],[10,16,20],[8,10,10]])"
   ]
  },
  {
   "cell_type": "code",
   "execution_count": 27,
   "id": "620191f3",
   "metadata": {},
   "outputs": [
    {
     "data": {
      "text/plain": [
       "array([[1720,  110,  120],\n",
       "       [  14,   20,   20],\n",
       "       [   4,    8,   10]])"
      ]
     },
     "execution_count": 27,
     "metadata": {},
     "output_type": "execute_result"
    }
   ],
   "source": [
    "#subtraction\n",
    "profit=revenue-expanses\n",
    "profit"
   ]
  },
  {
   "cell_type": "code",
   "execution_count": 33,
   "id": "7a0c8775",
   "metadata": {},
   "outputs": [],
   "source": [
    "price=np.array([1000,400,1200])\n",
    "unitsales=np.array([[30,40,50],[5,10,15],[2,5,7]])"
   ]
  },
  {
   "cell_type": "code",
   "execution_count": 36,
   "id": "454265ff",
   "metadata": {},
   "outputs": [
    {
     "data": {
      "text/plain": [
       "array([[34400, 50000, 64400]])"
      ]
     },
     "execution_count": 36,
     "metadata": {},
     "output_type": "execute_result"
    }
   ],
   "source": [
    "np.dot(price,unitsales)"
   ]
  },
  {
   "cell_type": "code",
   "execution_count": 39,
   "id": "93299d70",
   "metadata": {},
   "outputs": [
    {
     "data": {
      "text/plain": [
       "array([[16000, 17600, 20000],\n",
       "       [ 5440,  6320,  8400],\n",
       "       [ 8800, 11200, 14400],\n",
       "       [ 6400,  6800,  7200]])"
      ]
     },
     "execution_count": 39,
     "metadata": {},
     "output_type": "execute_result"
    }
   ],
   "source": [
    "#converting usd revenue onto indian ruppes\n",
    "revenue_usd=np.array([[200,220,250],[68,79,105],[110,140,180],[80,85,90]])\n",
    "revenue_inr=80*revenue_usd\n",
    "revenue_inr"
   ]
  },
  {
   "cell_type": "code",
   "execution_count": 42,
   "id": "900c9724",
   "metadata": {},
   "outputs": [],
   "source": [
    "#calculate total flowers sale every month for flower shop\n",
    "units_sold=np.array([[50,60,25],[10,13,5],[40,70,52]])\n",
    "pricr_per_unit=np.array([20,30,15])\n",
    "\n",
    "total_sales_Amount=np.dot(pricr_per_unit,units_sold)"
   ]
  },
  {
   "cell_type": "code",
   "execution_count": 43,
   "id": "6058cbff",
   "metadata": {},
   "outputs": [
    {
     "data": {
      "text/plain": [
       "array([1900, 2640, 1430])"
      ]
     },
     "execution_count": 43,
     "metadata": {},
     "output_type": "execute_result"
    }
   ],
   "source": [
    "total_sales_Amount\n"
   ]
  },
  {
   "cell_type": "code",
   "execution_count": null,
   "id": "4f09919b",
   "metadata": {},
   "outputs": [],
   "source": []
  }
 ],
 "metadata": {
  "kernelspec": {
   "display_name": "Python 3 (ipykernel)",
   "language": "python",
   "name": "python3"
  },
  "language_info": {
   "codemirror_mode": {
    "name": "ipython",
    "version": 3
   },
   "file_extension": ".py",
   "mimetype": "text/x-python",
   "name": "python",
   "nbconvert_exporter": "python",
   "pygments_lexer": "ipython3",
   "version": "3.9.12"
  }
 },
 "nbformat": 4,
 "nbformat_minor": 5
}
