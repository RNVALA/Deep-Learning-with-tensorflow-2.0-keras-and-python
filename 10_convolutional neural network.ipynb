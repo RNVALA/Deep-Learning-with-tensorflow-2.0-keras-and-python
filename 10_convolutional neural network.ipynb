{
 "cells": [
  {
   "cell_type": "markdown",
   "id": "c1ba9467",
   "metadata": {},
   "source": [
    "### convolution neural network\n",
    "a image of koala\n",
    "- image size=1920*1080*3\n",
    "- first layer neurons=1920*1080*3 = 6 million\n",
    "- hidden layer neuron =lets says you keep it --4 million\n",
    "- weights between input and hidden layer=6mil*4mil=24milion"
   ]
  },
  {
   "cell_type": "markdown",
   "id": "442222e4",
   "metadata": {},
   "source": [
    "### Disadvantages of using ANN for image classification\n"
   ]
  },
  {
   "cell_type": "markdown",
   "id": "b796f37c",
   "metadata": {},
   "source": [
    "1. Too much computation\n",
    "2. Treats local pixels as pixels far apart\n",
    "3. Sensative to location of an object in an image(if we have image of koala in right side of frame , so it is koala only but it is difficult to recognize by koala)"
   ]
  },
  {
   "cell_type": "markdown",
   "id": "5c0451e2",
   "metadata": {},
   "source": [
    "### how human look on the koala\n",
    "- if we get picture then we verify with actual pictute like\n",
    "  - koala's eye -Y\n",
    "  - koala's nose -Y\n",
    "  - koala's ears -Y\n",
    "- then we will says that ya its koala's head\n",
    "- then we will check again\n",
    "   - koala's hands -Y\n",
    "   - Koala's legs -Y\n",
    "- then we will says yes it is koala's body\n",
    "- then we will check ya it's koala's body and its koala's head then we will sure that ya its koala only"
   ]
  },
  {
   "cell_type": "markdown",
   "id": "6175cb92",
   "metadata": {},
   "source": [
    "-  same way we are recognizing the digit also\n",
    "- so convolutional network use a filter to recognize\n",
    "- so, take example of 9 so upper side of 9 is loopy patter(filter),middle of 9 is verticalline(filter), and downside that is looking like diagonal is called Diagonal line(filter)\n",
    "#### Filter are nothing but feature detector\n"
   ]
  },
  {
   "cell_type": "markdown",
   "id": "259ffc85",
   "metadata": {},
   "source": [
    "- so you take firsr loopy filter *(multiply with)individual no from 3*3 grid from original image and divide by no in loopy filter so inthis case it is 9 so -1/9= so result will -.11 write and move to next here we are using01 strip means we move that box by 01\n",
    "- refer this link for picture visuvalization -- https://drive.google.com/file/d/1o2jiIFcbvPls8iAILXMbFKQed3dqXH1H/view?usp=sharing\n",
    "- and what you got is feature map\n",
    "- in this case we are getting 03 feature map\n",
    "- then we will apply  again convolutional neural apply\n",
    "- then we will flatten the and pass to neural network\n",
    "- link for image visuvalization--https://drive.google.com/file/d/1fs_B5rUh94A5gqrWp2CWyt-SWU9du3fS/view?usp=sharing\n",
    "\n",
    "-so, first part is feature extraction and second part is classification\n",
    "- relu make the model with  non linear it makes -ve value 0 and positive value as it"
   ]
  },
  {
   "cell_type": "markdown",
   "id": "7a037ba4",
   "metadata": {},
   "source": [
    "## Pooling layer is used to reduce the size\n"
   ]
  },
  {
   "cell_type": "markdown",
   "id": "53641a8d",
   "metadata": {},
   "source": [
    "- first poling operation max polling \n",
    "- maximum no from the features\n",
    "- There is average pooling also\n",
    "-Benifits of pooling\n",
    " - Reduces dimensions and computation\n",
    " - Reduce overfitting as there are less parameters \n",
    " - model is tolerent towards variations distortions and variations \n",
    " \n",
    " -final image of convolutional network  --- https://drive.google.com/file/d/1Me-qjAXfqOHYKGdPGP6jjoln_jU3C1pb/view?usp=sharing"
   ]
  },
  {
   "cell_type": "markdown",
   "id": "160106c2",
   "metadata": {},
   "source": [
    "### Benefits of convolutional\n",
    "- Connections sparsity reduces overfitting #not every node is connected to each layer\n",
    "- con-polling gives location invariant feature detection\n",
    "- parameter sharing"
   ]
  },
  {
   "cell_type": "markdown",
   "id": "1bb679ea",
   "metadata": {},
   "source": [
    "### Benefits of Relu"
   ]
  },
  {
   "cell_type": "markdown",
   "id": "15b82990",
   "metadata": {},
   "source": [
    "- Introduces nonlinearity\n",
    "- speeds up training,faster to compute"
   ]
  },
  {
   "cell_type": "markdown",
   "id": "b6478b24",
   "metadata": {},
   "source": [
    "### CNN by iteself doen't take care of rotation and scale\n",
    "- you need to have rotated,scaled sample in training dataset\n",
    "- if you don't have such samples than use data augmentation methods to generate new rotated/scaled samples from existing training sample"
   ]
  },
  {
   "cell_type": "code",
   "execution_count": null,
   "id": "287f2a3f",
   "metadata": {},
   "outputs": [],
   "source": []
  }
 ],
 "metadata": {
  "kernelspec": {
   "display_name": "Python 3 (ipykernel)",
   "language": "python",
   "name": "python3"
  },
  "language_info": {
   "codemirror_mode": {
    "name": "ipython",
    "version": 3
   },
   "file_extension": ".py",
   "mimetype": "text/x-python",
   "name": "python",
   "nbconvert_exporter": "python",
   "pygments_lexer": "ipython3",
   "version": "3.9.12"
  }
 },
 "nbformat": 4,
 "nbformat_minor": 5
}
